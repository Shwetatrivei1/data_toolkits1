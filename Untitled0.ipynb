{
  "nbformat": 4,
  "nbformat_minor": 0,
  "metadata": {
    "colab": {
      "provenance": []
    },
    "kernelspec": {
      "name": "python3",
      "display_name": "Python 3"
    },
    "language_info": {
      "name": "python"
    }
  },
  "cells": [
    {
      "cell_type": "markdown",
      "source": [
        "1. What is NumPy, and why is it widely used in Python ?\n",
        "\n",
        " NumPy is a poweful libary in python used for numerical computing . It provides support for large , multi - dimensional arrays and matrices .\n",
        "NumPy is making array operations much faster compared to lists.\n",
        "It introduces the 'ndarray' object , which is make easy to handling large datasets. In this built - in functions for linear algebra and random number generation .\n",
        "\n",
        "\n"
      ],
      "metadata": {
        "id": "e5zFDRBcDyIJ"
      }
    },
    {
      "cell_type": "markdown",
      "source": [
        "2.  How does broadcasting work in NumPy ?\n",
        "    broadcasting is a mechanism thats allows operations on array of different shapes in a way that avoids unnecessary memory duplication . Instead of explicitly replicating smaller arrays to match the shape of larges ones , numpy automatically expends them to perform.\n",
        "    \n",
        "\n"
      ],
      "metadata": {
        "id": "JwfpOXNbG-ye"
      }
    },
    {
      "cell_type": "markdown",
      "source": [
        "    3 .What is a Pandas DataFrame ?\n",
        "  \n",
        "      A pandas dataframe is two dimensional data structure in python library .\n",
        "      It is similar to a table in sql or excel . It consists of rows and columns .\n",
        "      You can create a data frame using lists , dictionary , numpy array or another external data source .\n",
        "\n"
      ],
      "metadata": {
        "id": "CjWK-T-7VryA"
      }
    },
    {
      "cell_type": "markdown",
      "source": [
        "4.  Explain the use of the groupby() method in Pandas ?\n",
        "\n",
        "    Groupby() is a method that used to group data based on one or more columns .\n",
        "    It is useful for analying and summarizing data efficiently .\n",
        "    It is a powerful tool in pandas for spliting , applying and combinig data .it helps  in data summarization and transformation ."
      ],
      "metadata": {
        "id": "iymOEmXiXY1l"
      }
    },
    {
      "cell_type": "markdown",
      "source": [
        "5. Why is Seaborn preferred for statistical visualizations?\n",
        "   \n",
        "   Seaborn is preferred for statistical virsualization because it provides a high level interface for drawing attractive and statistical graphics .\n",
        "   It is built on the top of matplotib . It is spcifically designed for statistical visualization. Its visulization data with the less code .\n",
        "\n"
      ],
      "metadata": {
        "id": "x-UZnVMwXVdN"
      }
    },
    {
      "cell_type": "markdown",
      "source": [
        "6.  What are the differences between NumPy arrays and Python lists?\n",
        "\n",
        "    NumPy arrays are homogeneous data type . its provides advanced mathematical\n",
        "    and statistical functions . its supports advanced indexing and multi dimensional arrays .\n",
        "     \n",
        "     Lists are hetrogeneous dta type in python .it provide limited mathematical operation , basic indexing and slicing  . it supports only one dimensional ."
      ],
      "metadata": {
        "id": "f4QzBTsUXTLn"
      }
    },
    {
      "cell_type": "markdown",
      "source": [
        "7.  What is a heatmap, and when should it be used?\n",
        "\n",
        "    A heatmap is data visualization technique that represents numerical values in matrix format using colour . it is commonly used to highlight datasets .\n",
        "    When representing large data matrices .\n",
        "    Visualizing correlations between variables .\n",
        "\n"
      ],
      "metadata": {
        "id": "uaLm1PVSXQUF"
      }
    },
    {
      "cell_type": "markdown",
      "source": [
        "8.  What does the term “vectorized operation” mean in NumPy?\n",
        "    \n",
        "    It is operations in NumPy that on operation on entire arrays without using loops . It is reducing the need for explicit loops , making code more readable . its allow operation between arrays of different shapes .\n"
      ],
      "metadata": {
        "id": "llTus4GOgibf"
      }
    },
    {
      "cell_type": "markdown",
      "source": [
        "9.  How does Matplotlib differ from Plotly ?\n",
        "\n",
        "    A matplotlib is static plotting library . it is highly customizable and require manual configuration . It is support 3D plotting .\n",
        "\n",
        "    A plotly is interactive plotting library . It  has some web application like HTML , JSON ,PNG .its suited  for large datasets .It supports 3D plots ."
      ],
      "metadata": {
        "id": "aFvOakgGh3zd"
      }
    },
    {
      "cell_type": "markdown",
      "source": [
        "10 . What is the significance of hierarchical indexing in Pandas?\n",
        "\n",
        "     It known as a multi level indexing  on data frame and series .\n",
        "     It is used for organizing the complex data . it used to enhances data analysis of data sets .\n",
        "     its allows accessing data using multi keys .\n",
        "\n"
      ],
      "metadata": {
        "id": "PzAmklzNj8qB"
      }
    },
    {
      "cell_type": "markdown",
      "source": [
        "11 . What is the role of Seaborn’s pairplot() function ?\n",
        "\n",
        "     It is function to create a grid of scatter plots for visualizing relationships between multiple numerical variables in data sets .\n",
        "     Plots scatter plots between the all pairs of numarical variables .\n",
        "     The off diagonal plots can be scatter plots ."
      ],
      "metadata": {
        "id": "026jVPIVlPRr"
      }
    },
    {
      "cell_type": "markdown",
      "source": [
        " 12. What is the purpose of the describe() function in Pandas?\n",
        "   \n",
        "   Its function is used to generates statistics for numarical columns in data frame . Its summarizes numerical data computes count , mean , deviation ,min , max and quartiles . its identify the missing value and understanding categorical distribution .\n"
      ],
      "metadata": {
        "id": "d5NW2JQAnuQa"
      }
    },
    {
      "cell_type": "markdown",
      "source": [
        "   13.  Why is handling missing data important in Pandas?\n",
        "        \n",
        "        Handling the missing data is important because missing values inaccurate analyses based on result . Its improves model performance and provides the meaningful data sets .\n",
        "        Function like mean() , sum() , and correlation () can be affected by missing data .  \n"
      ],
      "metadata": {
        "id": "KO3dxK2Np7cq"
      }
    },
    {
      "cell_type": "markdown",
      "source": [
        "  14. What are the benefits of using Plotly for data visualization?\n",
        "\n",
        "      Its has advanced visualizations like 3D plots , heatmaps and animations.\n",
        "      Its has financial charts and scientific visualizations .Its automatically adjusts colors , layouts and themes .  Its customization options for fonts and backgrounds .\n",
        "       \n"
      ],
      "metadata": {
        "id": "no3EPAV0rYFl"
      }
    },
    {
      "cell_type": "markdown",
      "source": [
        "  15. How does NumPy handle multidimensional arrays?\n",
        "      \n",
        "      Its handle the multidimensional arrays by using numpy.ndarray object , thats support fast mathematical operations , slicing ,and broadcasting .\n",
        "      Its uses zero based indexing like python lists .\n",
        "      \n"
      ],
      "metadata": {
        "id": "XxgP4NBWspB2"
      }
    },
    {
      "cell_type": "markdown",
      "source": [
        "   16. What is the role of Bokeh in data visualization?\n",
        "\n",
        "       Bokeh is a powerful library in python , thats used for creating interacting and web visualizations . It is designed for real time visualizations and high performance plots . It is embedded in web applications . Its suppots streaming data for real time updates .\n"
      ],
      "metadata": {
        "id": "8W_67dJ-tsOr"
      }
    },
    {
      "cell_type": "markdown",
      "source": [
        "   17. Explain the difference between apply() and map() in Pandas?\n",
        "\n",
        "       They are differ in scope and use cases . Apply() function works on both series and dataframe . The map() works only on series . its works on lambda function or dictionary . The apply() functions allows the complex operations .\n",
        "        \n"
      ],
      "metadata": {
        "id": "PMCyqNyLu1GS"
      }
    },
    {
      "cell_type": "markdown",
      "source": [
        "   18. What are some advanced features of NumPy?\n",
        "\n",
        "       They have many advance feature of numpy thats  make the numpy libraries more useable .That enhance the performance , efffiency and flexibility .\n",
        "       It is handling the different shapes in operations .\n",
        "       Its help in vectorized operations and advance indexing.\n"
      ],
      "metadata": {
        "id": "sd8n9Sj4wTCR"
      }
    },
    {
      "cell_type": "markdown",
      "source": [
        "   19.  How does Pandas simplify time series analysis?\n",
        "       \n",
        "       Pandas provides poweful tools for handling the time series data , its makes it easy to work with data ranges , resampling and time based indexing . its time based slicing and filtering .\n"
      ],
      "metadata": {
        "id": "bJvhPJLpxpic"
      }
    },
    {
      "cell_type": "markdown",
      "source": [
        "   20. What is the role of a pivot table in Pandas?\n",
        "       \n",
        "       A pivot table is summarize , analyze and reorganize data in dataframe . It help in apply a function on datasets like sum ,mean and count .\n",
        "       \n"
      ],
      "metadata": {
        "id": "lp2woL7Tyr4J"
      }
    },
    {
      "cell_type": "markdown",
      "source": [
        "   21. Why is NumPy’s array slicing faster than Python’s list slicing?\n",
        "       \n",
        "       NumPy uses contiguous memory location or blocks , while python 'lists store elements as separate objects .\n",
        "       NumPy optimized with c code and it is  much faster in performance than the lists . NumPy return a view and list return a new list with extra memory .\n",
        "      \n"
      ],
      "metadata": {
        "id": "WezAq7xozhuQ"
      }
    },
    {
      "cell_type": "markdown",
      "source": [
        "  22. What are some common use cases for Seaborn?\n",
        "\n",
        "       Seaborn is data visualizaton library in python .It is to create statiscal and appealing graph . It is useful for exploratory dat analysis and understanding relationship between the datasets .\n",
        "       \n",
        "\n"
      ],
      "metadata": {
        "id": "f_cCinh21HMH"
      }
    },
    {
      "cell_type": "code",
      "source": [
        "# 1. How do you create a 2D NumPy array and calculate the sum of each row\n",
        "import numpy as np\n",
        "arr = np.array([[1,2,3],[4,5,6],[7,8,9]])\n",
        "row_sum = np.sum(arr ,axis=1)\n",
        "print(row_sum)\n"
      ],
      "metadata": {
        "colab": {
          "base_uri": "https://localhost:8080/"
        },
        "id": "6NrYe19v2RHA",
        "outputId": "3882c37a-938f-46b9-df08-08835255de26"
      },
      "execution_count": 3,
      "outputs": [
        {
          "output_type": "stream",
          "name": "stdout",
          "text": [
            "[ 6 15 24]\n"
          ]
        }
      ]
    },
    {
      "cell_type": "code",
      "source": [
        "#2. Write a Pandas script to find the mean of a specific column in a DataFrame\n",
        "import pandas as pd\n",
        "data = { 'col1':[2,3,4,5,6],'col2':[20,30,40,50,60]}\n",
        "df = pd.DataFrame(data)\n",
        "mean_col2 = df['col2'] .mean()\n",
        "print(mean_col2)\n",
        "\n"
      ],
      "metadata": {
        "colab": {
          "base_uri": "https://localhost:8080/"
        },
        "id": "mG5YJ19J3mqk",
        "outputId": "a271b3d4-9d2f-41ae-da28-53354a7cf063"
      },
      "execution_count": 6,
      "outputs": [
        {
          "output_type": "stream",
          "name": "stdout",
          "text": [
            "40.0\n"
          ]
        }
      ]
    },
    {
      "cell_type": "code",
      "source": [
        "#3.Create a scatter plot using Matplotlib?\n",
        "import matplotlib.pyplot as plt\n",
        "x=[2,3,4,5,6]\n",
        "y=[4,5,6,7,8]\n",
        "plt.scatter(x,y)\n",
        "plt.show()\n"
      ],
      "metadata": {
        "colab": {
          "base_uri": "https://localhost:8080/",
          "height": 430
        },
        "id": "OX1cHbyW6OQ3",
        "outputId": "6cf5e30f-9e45-4c0f-cf18-f19ba8c62bb7"
      },
      "execution_count": 7,
      "outputs": [
        {
          "output_type": "display_data",
          "data": {
            "text/plain": [
              "<Figure size 640x480 with 1 Axes>"
            ],
            "image/png": "[encoded data removed]"
          },
          "metadata": {}
        }
      ]
    },
    {
      "cell_type": "code",
      "source": [
        "#4.How do you calculate the correlation matrix using Seaborn and visualize it with a heatmap?\n",
        "import seaborn as sns\n",
        "import pandas as pd\n",
        "import matplotlib.pyplot as plt\n",
        "data = {'a': [2,3,4,5,6], 'b':[3,4,5,6,7], 'c':[4,5,6,7,8]}\n",
        "df = pd.DataFrame(data)\n",
        "corr_matrix = df.corr()\n",
        "sns.heatmap(corr_matrix, annot = True)\n",
        "plt.show()"
      ],
      "metadata": {
        "colab": {
          "base_uri": "https://localhost:8080/",
          "height": 435
        },
        "id": "Tuxmd55T65Av",
        "outputId": "ef89539b-1f3f-48ba-d78d-417ce5ef7e4c"
      },
      "execution_count": 10,
      "outputs": [
        {
          "output_type": "display_data",
          "data": {
            "text/plain": [
              "<Figure size 640x480 with 2 Axes>"
            ],
            "image/png": "[encoded data removed]"
          },
          "metadata": {}
        }
      ]
    },
    {
      "cell_type": "code",
      "source": [
        "#5. Generate a bar plot using Plotly?\n",
        "import plotly.express as px\n",
        "import pandas as pd\n",
        "data = { 'product':['A','B','C','D'], 'sales':[100,200,300,400]}\n",
        "df = pd.DataFrame(data)\n",
        "fig = px.bar(df, x='product', y='sales')\n",
        "fig.show()\n"
      ],
      "metadata": {
        "colab": {
          "base_uri": "https://localhost:8080/",
          "height": 542
        },
        "id": "KKKn4UwV8TzG",
        "outputId": "66dc5a16-211c-4ce7-f712-8ce19382d6ab"
      },
      "execution_count": 16,
      "outputs": [
        {
          "output_type": "display_data",
          "data": {
            "text/html": [
              "<html>\n",
              "<head><meta charset=\"utf-8\" /></head>\n",
              "<body>\n",
              "    <div>            <script src=\"https://cdnjs.cloudflare.com/ajax/libs/mathjax/2.7.5/MathJax.js?config=TeX-AMS-MML_SVG\"></script><script type=\"text/javascript\">if (window.MathJax && window.MathJax.Hub && window.MathJax.Hub.Config) {window.MathJax.Hub.Config({SVG: {font: \"STIX-Web\"}});}</script>                <script type=\"text/javascript\">window.PlotlyConfig = {MathJaxConfig: 'local'};</script>\n",
              "        <script charset=\"utf-8\" src=\"https://cdn.plot.ly/plotly-2.35.2.min.js\"></script>                <div id=\"a07967ff-0eeb-4c10-8f9f-3b7abfb3ae95\" class=\"plotly-graph-div\" style=\"height:525px; width:100%;\"></div>            <script type=\"text/javascript\">                                    window.PLOTLYENV=window.PLOTLYENV || {};                                    if (document.getElementById(\"a07967ff-0eeb-4c10-8f9f-3b7abfb3ae95\")) {                    Plotly.newPlot(                        \"a07967ff-0eeb-4c10-8f9f-3b7abfb3ae95\",                        [{\"alignmentgroup\":\"True\",\"hovertemplate\":\"product=%{x}\\u003cbr\\u003esales=%{y}\\u003cextra\\u003e\\u003c\\u002fextra\\u003e\",\"legendgroup\":\"\",\"marker\":{\"color\":\"#636efa\",\"pattern\":{\"shape\":\"\"}},\"name\":\"\",\"offsetgroup\":\"\",\"orientation\":\"v\",\"showlegend\":false,\"textposition\":\"auto\",\"x\":[\"A\",\"B\",\"C\",\"D\"],\"xaxis\":\"x\",\"y\":[100,200,300,400],\"yaxis\":\"y\",\"type\":\"bar\"}],                        {\"template\":{\"data\":{\"histogram2dcontour\":[{\"type\":\"histogram2dcontour\",\"colorbar\":{\"outlinewidth\":0,\"ticks\":\"\"},\"colorscale\":[[0.0,\"#0d0887\"],[0.1111111111111111,\"#46039f\"],[0.2222222222222222,\"#7201a8\"],[0.3333333333333333,\"#9c179e\"],[0.4444444444444444,\"#bd3786\"],[0.5555555555555556,\"#d8576b\"],[0.6666666666666666,\"#ed7953\"],[0.7777777777777778,\"#fb9f3a\"],[0.8888888888888888,\"#fdca26\"],[1.0,\"#f0f921\"]]}],\"choropleth\":[{\"type\":\"choropleth\",\"colorbar\":{\"outlinewidth\":0,\"ticks\":\"\"}}],\"histogram2d\":[{\"type\":\"histogram2d\",\"colorbar\":{\"outlinewidth\":0,\"ticks\":\"\"},\"colorscale\":[[0.0,\"#0d0887\"],[0.1111111111111111,\"#46039f\"],[0.2222222222222222,\"#7201a8\"],[0.3333333333333333,\"#9c179e\"],[0.4444444444444444,\"#bd3786\"],[0.5555555555555556,\"#d8576b\"],[0.6666666666666666,\"#ed7953\"],[0.7777777777777778,\"#fb9f3a\"],[0.8888888888888888,\"#fdca26\"],[1.0,\"#f0f921\"]]}],\"heatmap\":[{\"type\":\"heatmap\",\"colorbar\":{\"outlinewidth\":0,\"ticks\":\"\"},\"colorscale\":[[0.0,\"#0d0887\"],[0.1111111111111111,\"#46039f\"],[0.2222222222222222,\"#7201a8\"],[0.3333333333333333,\"#9c179e\"],[0.4444444444444444,\"#bd3786\"],[0.5555555555555556,\"#d8576b\"],[0.6666666666666666,\"#ed7953\"],[0.7777777777777778,\"#fb9f3a\"],[0.8888888888888888,\"#fdca26\"],[1.0,\"#f0f921\"]]}],\"heatmapgl\":[{\"type\":\"heatmapgl\",\"colorbar\":{\"outlinewidth\":0,\"ticks\":\"\"},\"colorscale\":[[0.0,\"#0d0887\"],[0.1111111111111111,\"#46039f\"],[0.2222222222222222,\"#7201a8\"],[0.3333333333333333,\"#9c179e\"],[0.4444444444444444,\"#bd3786\"],[0.5555555555555556,\"#d8576b\"],[0.6666666666666666,\"#ed7953\"],[0.7777777777777778,\"#fb9f3a\"],[0.8888888888888888,\"#fdca26\"],[1.0,\"#f0f921\"]]}],\"contourcarpet\":[{\"type\":\"contourcarpet\",\"colorbar\":{\"outlinewidth\":0,\"ticks\":\"\"}}],\"contour\":[{\"type\":\"contour\",\"colorbar\":{\"outlinewidth\":0,\"ticks\":\"\"},\"colorscale\":[[0.0,\"#0d0887\"],[0.1111111111111111,\"#46039f\"],[0.2222222222222222,\"#7201a8\"],[0.3333333333333333,\"#9c179e\"],[0.4444444444444444,\"#bd3786\"],[0.5555555555555556,\"#d8576b\"],[0.6666666666666666,\"#ed7953\"],[0.7777777777777778,\"#fb9f3a\"],[0.8888888888888888,\"#fdca26\"],[1.0,\"#f0f921\"]]}],\"surface\":[{\"type\":\"surface\",\"colorbar\":{\"outlinewidth\":0,\"ticks\":\"\"},\"colorscale\":[[0.0,\"#0d0887\"],[0.1111111111111111,\"#46039f\"],[0.2222222222222222,\"#7201a8\"],[0.3333333333333333,\"#9c179e\"],[0.4444444444444444,\"#bd3786\"],[0.5555555555555556,\"#d8576b\"],[0.6666666666666666,\"#ed7953\"],[0.7777777777777778,\"#fb9f3a\"],[0.8888888888888888,\"#fdca26\"],[1.0,\"#f0f921\"]]}],\"mesh3d\":[{\"type\":\"mesh3d\",\"colorbar\":{\"outlinewidth\":0,\"ticks\":\"\"}}],\"scatter\":[{\"fillpattern\":{\"fillmode\":\"overlay\",\"size\":10,\"solidity\":0.2},\"type\":\"scatter\"}],\"parcoords\":[{\"type\":\"parcoords\",\"line\":{\"colorbar\":{\"outlinewidth\":0,\"ticks\":\"\"}}}],\"scatterpolargl\":[{\"type\":\"scatterpolargl\",\"marker\":{\"colorbar\":{\"outlinewidth\":0,\"ticks\":\"\"}}}],\"bar\":[{\"error_x\":{\"color\":\"#2a3f5f\"},\"error_y\":{\"color\":\"#2a3f5f\"},\"marker\":{\"line\":{\"color\":\"#E5ECF6\",\"width\":0.5},\"pattern\":{\"fillmode\":\"overlay\",\"size\":10,\"solidity\":0.2}},\"type\":\"bar\"}],\"scattergeo\":[{\"type\":\"scattergeo\",\"marker\":{\"colorbar\":{\"outlinewidth\":0,\"ticks\":\"\"}}}],\"scatterpolar\":[{\"type\":\"scatterpolar\",\"marker\":{\"colorbar\":{\"outlinewidth\":0,\"ticks\":\"\"}}}],\"histogram\":[{\"marker\":{\"pattern\":{\"fillmode\":\"overlay\",\"size\":10,\"solidity\":0.2}},\"type\":\"histogram\"}],\"scattergl\":[{\"type\":\"scattergl\",\"marker\":{\"colorbar\":{\"outlinewidth\":0,\"ticks\":\"\"}}}],\"scatter3d\":[{\"type\":\"scatter3d\",\"line\":{\"colorbar\":{\"outlinewidth\":0,\"ticks\":\"\"}},\"marker\":{\"colorbar\":{\"outlinewidth\":0,\"ticks\":\"\"}}}],\"scattermapbox\":[{\"type\":\"scattermapbox\",\"marker\":{\"colorbar\":{\"outlinewidth\":0,\"ticks\":\"\"}}}],\"scatterternary\":[{\"type\":\"scatterternary\",\"marker\":{\"colorbar\":{\"outlinewidth\":0,\"ticks\":\"\"}}}],\"scattercarpet\":[{\"type\":\"scattercarpet\",\"marker\":{\"colorbar\":{\"outlinewidth\":0,\"ticks\":\"\"}}}],\"carpet\":[{\"aaxis\":{\"endlinecolor\":\"#2a3f5f\",\"gridcolor\":\"white\",\"linecolor\":\"white\",\"minorgridcolor\":\"white\",\"startlinecolor\":\"#2a3f5f\"},\"baxis\":{\"endlinecolor\":\"#2a3f5f\",\"gridcolor\":\"white\",\"linecolor\":\"white\",\"minorgridcolor\":\"white\",\"startlinecolor\":\"#2a3f5f\"},\"type\":\"carpet\"}],\"table\":[{\"cells\":{\"fill\":{\"color\":\"#EBF0F8\"},\"line\":{\"color\":\"white\"}},\"header\":{\"fill\":{\"color\":\"#C8D4E3\"},\"line\":{\"color\":\"white\"}},\"type\":\"table\"}],\"barpolar\":[{\"marker\":{\"line\":{\"color\":\"#E5ECF6\",\"width\":0.5},\"pattern\":{\"fillmode\":\"overlay\",\"size\":10,\"solidity\":0.2}},\"type\":\"barpolar\"}],\"pie\":[{\"automargin\":true,\"type\":\"pie\"}]},\"layout\":{\"autotypenumbers\":\"strict\",\"colorway\":[\"#636efa\",\"#EF553B\",\"#00cc96\",\"#ab63fa\",\"#FFA15A\",\"#19d3f3\",\"#FF6692\",\"#B6E880\",\"#FF97FF\",\"#FECB52\"],\"font\":{\"color\":\"#2a3f5f\"},\"hovermode\":\"closest\",\"hoverlabel\":{\"align\":\"left\"},\"paper_bgcolor\":\"white\",\"plot_bgcolor\":\"#E5ECF6\",\"polar\":{\"bgcolor\":\"#E5ECF6\",\"angularaxis\":{\"gridcolor\":\"white\",\"linecolor\":\"white\",\"ticks\":\"\"},\"radialaxis\":{\"gridcolor\":\"white\",\"linecolor\":\"white\",\"ticks\":\"\"}},\"ternary\":{\"bgcolor\":\"#E5ECF6\",\"aaxis\":{\"gridcolor\":\"white\",\"linecolor\":\"white\",\"ticks\":\"\"},\"baxis\":{\"gridcolor\":\"white\",\"linecolor\":\"white\",\"ticks\":\"\"},\"caxis\":{\"gridcolor\":\"white\",\"linecolor\":\"white\",\"ticks\":\"\"}},\"coloraxis\":{\"colorbar\":{\"outlinewidth\":0,\"ticks\":\"\"}},\"colorscale\":{\"sequential\":[[0.0,\"#0d0887\"],[0.1111111111111111,\"#46039f\"],[0.2222222222222222,\"#7201a8\"],[0.3333333333333333,\"#9c179e\"],[0.4444444444444444,\"#bd3786\"],[0.5555555555555556,\"#d8576b\"],[0.6666666666666666,\"#ed7953\"],[0.7777777777777778,\"#fb9f3a\"],[0.8888888888888888,\"#fdca26\"],[1.0,\"#f0f921\"]],\"sequentialminus\":[[0.0,\"#0d0887\"],[0.1111111111111111,\"#46039f\"],[0.2222222222222222,\"#7201a8\"],[0.3333333333333333,\"#9c179e\"],[0.4444444444444444,\"#bd3786\"],[0.5555555555555556,\"#d8576b\"],[0.6666666666666666,\"#ed7953\"],[0.7777777777777778,\"#fb9f3a\"],[0.8888888888888888,\"#fdca26\"],[1.0,\"#f0f921\"]],\"diverging\":[[0,\"#8e0152\"],[0.1,\"#c51b7d\"],[0.2,\"#de77ae\"],[0.3,\"#f1b6da\"],[0.4,\"#fde0ef\"],[0.5,\"#f7f7f7\"],[0.6,\"#e6f5d0\"],[0.7,\"#b8e186\"],[0.8,\"#7fbc41\"],[0.9,\"#4d9221\"],[1,\"#276419\"]]},\"xaxis\":{\"gridcolor\":\"white\",\"linecolor\":\"white\",\"ticks\":\"\",\"title\":{\"standoff\":15},\"zerolinecolor\":\"white\",\"automargin\":true,\"zerolinewidth\":2},\"yaxis\":{\"gridcolor\":\"white\",\"linecolor\":\"white\",\"ticks\":\"\",\"title\":{\"standoff\":15},\"zerolinecolor\":\"white\",\"automargin\":true,\"zerolinewidth\":2},\"scene\":{\"xaxis\":{\"backgroundcolor\":\"#E5ECF6\",\"gridcolor\":\"white\",\"linecolor\":\"white\",\"showbackground\":true,\"ticks\":\"\",\"zerolinecolor\":\"white\",\"gridwidth\":2},\"yaxis\":{\"backgroundcolor\":\"#E5ECF6\",\"gridcolor\":\"white\",\"linecolor\":\"white\",\"showbackground\":true,\"ticks\":\"\",\"zerolinecolor\":\"white\",\"gridwidth\":2},\"zaxis\":{\"backgroundcolor\":\"#E5ECF6\",\"gridcolor\":\"white\",\"linecolor\":\"white\",\"showbackground\":true,\"ticks\":\"\",\"zerolinecolor\":\"white\",\"gridwidth\":2}},\"shapedefaults\":{\"line\":{\"color\":\"#2a3f5f\"}},\"annotationdefaults\":{\"arrowcolor\":\"#2a3f5f\",\"arrowhead\":0,\"arrowwidth\":1},\"geo\":{\"bgcolor\":\"white\",\"landcolor\":\"#E5ECF6\",\"subunitcolor\":\"white\",\"showland\":true,\"showlakes\":true,\"lakecolor\":\"white\"},\"title\":{\"x\":0.05},\"mapbox\":{\"style\":\"light\"}}},\"xaxis\":{\"anchor\":\"y\",\"domain\":[0.0,1.0],\"title\":{\"text\":\"product\"}},\"yaxis\":{\"anchor\":\"x\",\"domain\":[0.0,1.0],\"title\":{\"text\":\"sales\"}},\"legend\":{\"tracegroupgap\":0},\"margin\":{\"t\":60},\"barmode\":\"relative\"},                        {\"responsive\": true}                    ).then(function(){\n",
              "                            \n",
              "var gd = document.getElementById('a07967ff-0eeb-4c10-8f9f-3b7abfb3ae95');\n",
              "var x = new MutationObserver(function (mutations, observer) {{\n",
              "        var display = window.getComputedStyle(gd).display;\n",
              "        if (!display || display === 'none') {{\n",
              "            console.log([gd, 'removed!']);\n",
              "            Plotly.purge(gd);\n",
              "            observer.disconnect();\n",
              "        }}\n",
              "}});\n",
              "\n",
              "// Listen for the removal of the full notebook cells\n",
              "var notebookContainer = gd.closest('#notebook-container');\n",
              "if (notebookContainer) {{\n",
              "    x.observe(notebookContainer, {childList: true});\n",
              "}}\n",
              "\n",
              "// Listen for the clearing of the current output cell\n",
              "var outputEl = gd.closest('.output');\n",
              "if (outputEl) {{\n",
              "    x.observe(outputEl, {childList: true});\n",
              "}}\n",
              "\n",
              "                        })                };                            </script>        </div>\n",
              "</body>\n",
              "</html>"
            ]
          },
          "metadata": {}
        }
      ]
    },
    {
      "cell_type": "code",
      "source": [
        "#6. Create a DataFrame and add a new column based on an existing column?\n",
        "import pandas as pd\n",
        "data = {'values':[100,200,300,400,500]}\n",
        "df = pd.DataFrame(data)\n",
        "df['doubled_values']= df ['values']*2\n",
        "print(df)"
      ],
      "metadata": {
        "colab": {
          "base_uri": "https://localhost:8080/"
        },
        "id": "fWU5QfXg_g9B",
        "outputId": "96f8c296-b90a-4ffb-e698-238eec348d5d"
      },
      "execution_count": 17,
      "outputs": [
        {
          "output_type": "stream",
          "name": "stdout",
          "text": [
            "   values  doubled_values\n",
            "0     100             200\n",
            "1     200             400\n",
            "2     300             600\n",
            "3     400             800\n",
            "4     500            1000\n"
          ]
        }
      ]
    },
    {
      "cell_type": "code",
      "source": [
        "#7. Write a program to perform element-wise multiplication of two NumPy arrays?\n",
        "import numpy as np\n",
        "arr1=np.array([2,3,4])\n",
        "arr2=np.array([15,16,17])\n",
        "result= arr1*arr2\n",
        "print(result)"
      ],
      "metadata": {
        "colab": {
          "base_uri": "https://localhost:8080/"
        },
        "id": "dXxNGv7QAUtD",
        "outputId": "180a8c77-10a5-420a-a5e2-5ac35f42e9df"
      },
      "execution_count": 18,
      "outputs": [
        {
          "output_type": "stream",
          "name": "stdout",
          "text": [
            "[30 48 68]\n"
          ]
        }
      ]
    },
    {
      "cell_type": "code",
      "source": [
        "#8.Create a line plot with multiple lines using Matplotlib?\n",
        "import matplotlib.pyplot as plt\n",
        "months = ['jan', 'feb','mar','apr','may']\n",
        "sales_A=[100,200,300,400,500]\n",
        "sales_B=[90,67,98,45,70]\n",
        "plt.plot(months,sales_A, label='line 1')\n",
        "plt.plot(months,sales_B, label='label 2')\n",
        "plt.legend()\n",
        "plt.show()\n",
        "\n"
      ],
      "metadata": {
        "colab": {
          "base_uri": "https://localhost:8080/",
          "height": 430
        },
        "id": "PfmanYRvA2L6",
        "outputId": "e3de9dea-38d5-4e41-ab33-af41d91fc137"
      },
      "execution_count": 32,
      "outputs": [
        {
          "output_type": "display_data",
          "data": {
            "text/plain": [
              "<Figure size 640x480 with 1 Axes>"
            ],
            "image/png": "[encoded data removed]"
          },
          "metadata": {}
        }
      ]
    },
    {
      "cell_type": "code",
      "source": [
        "#9.Generate a Pandas DataFrame and filter rows where a column value is greater than a threshold?\n",
        "import pandas as pd\n",
        "data = {'values':[100,200,300,400,500]}\n",
        "df = pd.DataFrame(data)\n",
        "filtered_df=df[df['values'] > 200]\n",
        "print(filtered_df)"
      ],
      "metadata": {
        "colab": {
          "base_uri": "https://localhost:8080/"
        },
        "id": "N_Z5OmW5EgsE",
        "outputId": "60a61b7b-625e-4194-b84a-b7baa5fc25d5"
      },
      "execution_count": 26,
      "outputs": [
        {
          "output_type": "stream",
          "name": "stdout",
          "text": [
            "   values\n",
            "2     300\n",
            "3     400\n",
            "4     500\n"
          ]
        }
      ]
    },
    {
      "cell_type": "code",
      "source": [
        "#10.Create a histogram using Seaborn to visualize a distribution?\n",
        "import seaborn as sns\n",
        "import matplotlib.pyplot as plt\n",
        "import numpy as np\n",
        "data = np.random.normal(0,1,2000)\n",
        "sns.histplot(data, kde=True)\n",
        "plt.show()\n"
      ],
      "metadata": {
        "colab": {
          "base_uri": "https://localhost:8080/",
          "height": 430
        },
        "id": "lueh5yE3FPje",
        "outputId": "459fb427-ee6d-4faf-eb26-1f0463e5c8db"
      },
      "execution_count": 28,
      "outputs": [
        {
          "output_type": "display_data",
          "data": {
            "text/plain": [
              "<Figure size 640x480 with 1 Axes>"
            ],
            "image/png": "[encoded data removed]"
          },
          "metadata": {}
        }
      ]
    },
    {
      "cell_type": "code",
      "source": [
        "#11.Perform matrix multiplication using NumPy?\n",
        "import numpy as np\n",
        "matrix1 = np.array([[2,3],[3,4]])\n",
        "matrix2=np.array([[5,7],[6,7]])\n",
        "result= np.dot(matrix1, matrix2)\n",
        "print(result)\n"
      ],
      "metadata": {
        "colab": {
          "base_uri": "https://localhost:8080/"
        },
        "id": "cgaA6TSOGCNu",
        "outputId": "ef87af75-2b22-4ec0-89a5-ef73dea44812"
      },
      "execution_count": 29,
      "outputs": [
        {
          "output_type": "stream",
          "name": "stdout",
          "text": [
            "[[28 35]\n",
            " [39 49]]\n"
          ]
        }
      ]
    },
    {
      "cell_type": "code",
      "source": [
        "#12.Use Pandas to load a CSV file and display its first 5 rows?\n",
        "import pandas as pd\n",
        "df = pd.read_csv('data.csv')\n",
        "print(df.head())\n"
      ],
      "metadata": {
        "id": "S5mFBhrFG1Bb"
      },
      "execution_count": null,
      "outputs": []
    },
    {
      "cell_type": "code",
      "source": [
        "#13. Create a 3D scatter plot using Plotly.\n",
        "import plotly.express as px\n",
        "import numpy as np\n",
        "np.random.seed(55)\n",
        "x = np.random.rand(100)\n",
        "y= np.random.rand(100)\n",
        "z= np.random.rand(100)\n",
        "fig = px.scatter_3d(x=x,y=y,z=z)\n",
        "fig.show()\n"
      ],
      "metadata": {
        "colab": {
          "base_uri": "https://localhost:8080/",
          "height": 542
        },
        "id": "5V0H1ay8INUA",
        "outputId": "5ee4a5cb-6caa-4702-9ca4-882cb82cc529"
      },
      "execution_count": 31,
      "outputs": [
        {
          "output_type": "display_data",
          "data": {
            "text/html": [
              "<html>\n",
              "<head><meta charset=\"utf-8\" /></head>\n",
              "<body>\n",
              "    <div>            <script src=\"https://cdnjs.cloudflare.com/ajax/libs/mathjax/2.7.5/MathJax.js?config=TeX-AMS-MML_SVG\"></script><script type=\"text/javascript\">if (window.MathJax && window.MathJax.Hub && window.MathJax.Hub.Config) {window.MathJax.Hub.Config({SVG: {font: \"STIX-Web\"}});}</script>                <script type=\"text/javascript\">window.PlotlyConfig = {MathJaxConfig: 'local'};</script>\n",
              "        <script charset=\"utf-8\" src=\"https://cdn.plot.ly/plotly-2.35.2.min.js\"></script>                <div id=\"5df8ee03-7a43-44b5-9502-3540eacdb4a9\" class=\"plotly-graph-div\" style=\"height:525px; width:100%;\"></div>            <script type=\"text/javascript\">                                    window.PLOTLYENV=window.PLOTLYENV || {};                                    if (document.getElementById(\"5df8ee03-7a43-44b5-9502-3540eacdb4a9\")) {                    Plotly.newPlot(                        \"5df8ee03-7a43-44b5-9502-3540eacdb4a9\",                        [{\"hovertemplate\":\"x=%{x}\\u003cbr\\u003ey=%{y}\\u003cbr\\u003ez=%{z}\\u003cextra\\u003e\\u003c\\u002fextra\\u003e\",\"legendgroup\":\"\",\"marker\":{\"color\":\"#636efa\",\"symbol\":\"circle\"},\"mode\":\"markers\",\"name\":\"\",\"scene\":\"scene\",\"showlegend\":false,\"x\":[0.093108286671858,0.9716559199897875,0.4838599804636461,0.2425227014980641,0.5311238298072531,0.2855442354647988,0.8626303770516396,0.0411001534608737,0.10834773395072039,0.767160045428697,0.05142870888388429,0.7757165386439339,0.009138942616912282,0.618312113456834,0.818709332738458,0.898585722981517,0.9856115817551715,0.4967449224367584,0.3523189257703936,0.8670849944720439,0.3968817457237722,0.6436572191766988,0.020453313165591402,0.8080845429893986,0.4296133020191586,0.5585465225030942,0.7791112901503947,0.40255712355177,0.9079949179108774,0.649969610986605,0.7272722271507035,0.7795610399847863,0.35072744767573094,0.01965992029992103,0.35855856952945986,0.3032254513488142,0.9190619921812826,0.25339692992403196,0.24115477122524742,0.9099231472801609,0.7768153504756296,0.4297658769706628,0.921790357758227,0.7076996787201035,0.07176942249936435,0.32208111033207776,0.8451195624531088,0.635692949111467,0.6153841336703681,0.8083144017049184,0.6364380890837869,0.2674200692881554,0.38555460233648275,0.34495775928694195,0.20032974767763323,0.26023188088012206,0.6727030290986542,0.8483657854171913,0.20277506130148049,0.7711335715509462,0.8310992857287541,0.5392570650035795,0.37246317384512984,0.2031817842559851,0.1879256581799844,0.32370546131048517,0.07232937282609797,0.1932205721087661,0.9187813112833391,0.6135976739950241,0.037268988528439406,0.27414848204267983,0.7233004603802307,0.9340629801063826,0.39822308321425015,0.7170424341998045,0.815465104690317,0.030439036469284364,0.8266767174449603,0.4780256942119516,0.2807283303945751,0.5941442686861492,0.06317712391037955,0.16709761140497825,0.5338856571517908,0.5831593676319418,0.22529304783092508,0.7461418589727019,0.7654451735949821,0.3537492865140427,0.5948593916527098,0.9791388284626318,0.2900678995765267,0.6251397492551437,0.3188942838517075,0.9235323181857819,0.4648513818237966,0.8603862209682375,0.182136278225144,0.283914952465565],\"y\":[0.28190431676324934,0.576455513298616,0.49099904909410885,0.7550158499778127,0.06818329769779552,0.9274261545304405,0.28698022509560306,0.5487721469214998,0.5275408851040959,0.49230762357129976,0.9520440668328015,0.6096630901033141,0.4166660032319013,0.4376373838111266,0.23588382145652176,0.9805825622611772,0.7534416730325719,0.2913196463902131,0.2916338368695629,0.7244164923026568,0.5044026181420679,0.040235095465624315,0.5102063610091926,0.37591330011167434,0.7513978375560798,0.720179108845585,0.07646551867205353,0.8603670511526715,0.06024035016238238,0.6590971273212639,0.06803058556446906,0.6995173409670539,0.37392677219266934,0.2044739633376852,0.7894460905147412,0.9816511850588933,0.6100450603959832,0.4815266272493721,0.5028482409893512,0.05624317847130522,0.05563907218321207,0.24368151708068697,0.11356223079377836,0.39844593581916543,0.20842054989960157,0.5734011124271942,0.5459287960617935,0.0470968812876823,0.7462389574121966,0.0026966501281202593,0.8505878283257671,0.6066062320310098,0.9030082821426947,0.19083336946791585,0.19504827891702747,0.09655152398622713,0.3405459087341066,0.5791424157387312,0.07158327666761988,0.2263620607395752,0.46283341818490187,0.694463239384828,0.5002537476465747,0.5006730790986477,0.39739801753058,0.0828631164166248,0.6401755219185958,0.5281447907240785,0.23401465034104352,0.8337443703761909,0.22235586014230335,0.9106240386122613,0.9429116168236177,0.4867896078873918,0.681745203858658,0.8063525731372656,0.3238117691679152,0.26025910761322024,0.021051955581701032,0.21696011777272006,0.7122715414517166,0.9749286303250078,0.6880361869590749,0.04122758572640761,0.799738961954606,0.25194215418313004,0.20855094274274355,0.2080343338962506,0.5763079648904692,0.10019514910470007,0.02663335474375106,0.3269000920272337,0.6921888356288117,0.17601498528439696,0.9500287258676736,0.622348140652644,0.05760399639364833,0.3239685624403673,0.6778368384027788,0.12935125988426277],\"z\":[0.6753595415886641,0.6183216841385331,0.982220156381089,0.7068634496940396,0.16173139325286623,0.49971987697897835,0.6954760738005489,0.23043792051102563,0.9921956414601503,0.25799014946558607,0.13099218977916072,0.5696153282895696,0.615419318920384,0.5352868444243044,0.5698209447600001,0.25129364782566177,0.08860645369726416,0.251924451859736,0.4660082999839087,0.4898244293575713,0.4776019477533956,0.2416391694658322,0.9205144108494571,0.14813755065800904,0.35775721313879594,0.36130771161396724,0.46767463813104704,0.5734960891811726,0.4287620395529089,0.6268797050722853,0.6752817543547741,0.021687807103570877,0.4883886546870452,0.07013581514505918,0.6463836186330753,0.7875722874537501,0.9260080167654225,0.3781952224305556,0.5338310091099503,0.7269891812535749,0.26463856441529165,0.5700623502875801,0.7187358898687067,0.17711394533995528,0.4267156120696136,0.5687068759046544,0.9142568189692102,0.6587927213436556,0.3324420670135625,0.6266109502791236,0.6743024081528587,0.17607588665539187,0.48306694771104286,0.15629346839862623,0.9687463334966087,0.43646264851313676,0.863818063299561,0.24690423813395568,0.727760021790933,0.9557995789378733,0.8837245555379865,0.5312117051026607,0.07126539919761876,0.5144075689498275,0.6769046506264379,0.950233263861781,0.7727706491313248,0.4741454831411698,0.018828467272341554,0.5228056162209228,0.3654875266534906,0.4471123386415081,0.23078905341922573,0.10257410914357079,0.3539688715251209,0.9345754185146954,0.0591060453903024,0.12112598159241084,0.8610301052112173,0.9116741230349741,0.5892283802404976,0.15316014112002396,0.08338881067829951,0.25970386398292045,0.6045214224098011,0.7859783569846558,0.20147174394263334,0.8008211176344575,0.8199297984364039,0.9151340539747613,0.39934113432157026,0.17760268837074922,0.43975949467526976,0.02391034571299888,0.7541346048371976,0.768461907819467,0.8430238776038627,0.7573250407889791,0.709583705022163,0.33448569933048533],\"type\":\"scatter3d\"}],                        {\"template\":{\"data\":{\"histogram2dcontour\":[{\"type\":\"histogram2dcontour\",\"colorbar\":{\"outlinewidth\":0,\"ticks\":\"\"},\"colorscale\":[[0.0,\"#0d0887\"],[0.1111111111111111,\"#46039f\"],[0.2222222222222222,\"#7201a8\"],[0.3333333333333333,\"#9c179e\"],[0.4444444444444444,\"#bd3786\"],[0.5555555555555556,\"#d8576b\"],[0.6666666666666666,\"#ed7953\"],[0.7777777777777778,\"#fb9f3a\"],[0.8888888888888888,\"#fdca26\"],[1.0,\"#f0f921\"]]}],\"choropleth\":[{\"type\":\"choropleth\",\"colorbar\":{\"outlinewidth\":0,\"ticks\":\"\"}}],\"histogram2d\":[{\"type\":\"histogram2d\",\"colorbar\":{\"outlinewidth\":0,\"ticks\":\"\"},\"colorscale\":[[0.0,\"#0d0887\"],[0.1111111111111111,\"#46039f\"],[0.2222222222222222,\"#7201a8\"],[0.3333333333333333,\"#9c179e\"],[0.4444444444444444,\"#bd3786\"],[0.5555555555555556,\"#d8576b\"],[0.6666666666666666,\"#ed7953\"],[0.7777777777777778,\"#fb9f3a\"],[0.8888888888888888,\"#fdca26\"],[1.0,\"#f0f921\"]]}],\"heatmap\":[{\"type\":\"heatmap\",\"colorbar\":{\"outlinewidth\":0,\"ticks\":\"\"},\"colorscale\":[[0.0,\"#0d0887\"],[0.1111111111111111,\"#46039f\"],[0.2222222222222222,\"#7201a8\"],[0.3333333333333333,\"#9c179e\"],[0.4444444444444444,\"#bd3786\"],[0.5555555555555556,\"#d8576b\"],[0.6666666666666666,\"#ed7953\"],[0.7777777777777778,\"#fb9f3a\"],[0.8888888888888888,\"#fdca26\"],[1.0,\"#f0f921\"]]}],\"heatmapgl\":[{\"type\":\"heatmapgl\",\"colorbar\":{\"outlinewidth\":0,\"ticks\":\"\"},\"colorscale\":[[0.0,\"#0d0887\"],[0.1111111111111111,\"#46039f\"],[0.2222222222222222,\"#7201a8\"],[0.3333333333333333,\"#9c179e\"],[0.4444444444444444,\"#bd3786\"],[0.5555555555555556,\"#d8576b\"],[0.6666666666666666,\"#ed7953\"],[0.7777777777777778,\"#fb9f3a\"],[0.8888888888888888,\"#fdca26\"],[1.0,\"#f0f921\"]]}],\"contourcarpet\":[{\"type\":\"contourcarpet\",\"colorbar\":{\"outlinewidth\":0,\"ticks\":\"\"}}],\"contour\":[{\"type\":\"contour\",\"colorbar\":{\"outlinewidth\":0,\"ticks\":\"\"},\"colorscale\":[[0.0,\"#0d0887\"],[0.1111111111111111,\"#46039f\"],[0.2222222222222222,\"#7201a8\"],[0.3333333333333333,\"#9c179e\"],[0.4444444444444444,\"#bd3786\"],[0.5555555555555556,\"#d8576b\"],[0.6666666666666666,\"#ed7953\"],[0.7777777777777778,\"#fb9f3a\"],[0.8888888888888888,\"#fdca26\"],[1.0,\"#f0f921\"]]}],\"surface\":[{\"type\":\"surface\",\"colorbar\":{\"outlinewidth\":0,\"ticks\":\"\"},\"colorscale\":[[0.0,\"#0d0887\"],[0.1111111111111111,\"#46039f\"],[0.2222222222222222,\"#7201a8\"],[0.3333333333333333,\"#9c179e\"],[0.4444444444444444,\"#bd3786\"],[0.5555555555555556,\"#d8576b\"],[0.6666666666666666,\"#ed7953\"],[0.7777777777777778,\"#fb9f3a\"],[0.8888888888888888,\"#fdca26\"],[1.0,\"#f0f921\"]]}],\"mesh3d\":[{\"type\":\"mesh3d\",\"colorbar\":{\"outlinewidth\":0,\"ticks\":\"\"}}],\"scatter\":[{\"fillpattern\":{\"fillmode\":\"overlay\",\"size\":10,\"solidity\":0.2},\"type\":\"scatter\"}],\"parcoords\":[{\"type\":\"parcoords\",\"line\":{\"colorbar\":{\"outlinewidth\":0,\"ticks\":\"\"}}}],\"scatterpolargl\":[{\"type\":\"scatterpolargl\",\"marker\":{\"colorbar\":{\"outlinewidth\":0,\"ticks\":\"\"}}}],\"bar\":[{\"error_x\":{\"color\":\"#2a3f5f\"},\"error_y\":{\"color\":\"#2a3f5f\"},\"marker\":{\"line\":{\"color\":\"#E5ECF6\",\"width\":0.5},\"pattern\":{\"fillmode\":\"overlay\",\"size\":10,\"solidity\":0.2}},\"type\":\"bar\"}],\"scattergeo\":[{\"type\":\"scattergeo\",\"marker\":{\"colorbar\":{\"outlinewidth\":0,\"ticks\":\"\"}}}],\"scatterpolar\":[{\"type\":\"scatterpolar\",\"marker\":{\"colorbar\":{\"outlinewidth\":0,\"ticks\":\"\"}}}],\"histogram\":[{\"marker\":{\"pattern\":{\"fillmode\":\"overlay\",\"size\":10,\"solidity\":0.2}},\"type\":\"histogram\"}],\"scattergl\":[{\"type\":\"scattergl\",\"marker\":{\"colorbar\":{\"outlinewidth\":0,\"ticks\":\"\"}}}],\"scatter3d\":[{\"type\":\"scatter3d\",\"line\":{\"colorbar\":{\"outlinewidth\":0,\"ticks\":\"\"}},\"marker\":{\"colorbar\":{\"outlinewidth\":0,\"ticks\":\"\"}}}],\"scattermapbox\":[{\"type\":\"scattermapbox\",\"marker\":{\"colorbar\":{\"outlinewidth\":0,\"ticks\":\"\"}}}],\"scatterternary\":[{\"type\":\"scatterternary\",\"marker\":{\"colorbar\":{\"outlinewidth\":0,\"ticks\":\"\"}}}],\"scattercarpet\":[{\"type\":\"scattercarpet\",\"marker\":{\"colorbar\":{\"outlinewidth\":0,\"ticks\":\"\"}}}],\"carpet\":[{\"aaxis\":{\"endlinecolor\":\"#2a3f5f\",\"gridcolor\":\"white\",\"linecolor\":\"white\",\"minorgridcolor\":\"white\",\"startlinecolor\":\"#2a3f5f\"},\"baxis\":{\"endlinecolor\":\"#2a3f5f\",\"gridcolor\":\"white\",\"linecolor\":\"white\",\"minorgridcolor\":\"white\",\"startlinecolor\":\"#2a3f5f\"},\"type\":\"carpet\"}],\"table\":[{\"cells\":{\"fill\":{\"color\":\"#EBF0F8\"},\"line\":{\"color\":\"white\"}},\"header\":{\"fill\":{\"color\":\"#C8D4E3\"},\"line\":{\"color\":\"white\"}},\"type\":\"table\"}],\"barpolar\":[{\"marker\":{\"line\":{\"color\":\"#E5ECF6\",\"width\":0.5},\"pattern\":{\"fillmode\":\"overlay\",\"size\":10,\"solidity\":0.2}},\"type\":\"barpolar\"}],\"pie\":[{\"automargin\":true,\"type\":\"pie\"}]},\"layout\":{\"autotypenumbers\":\"strict\",\"colorway\":[\"#636efa\",\"#EF553B\",\"#00cc96\",\"#ab63fa\",\"#FFA15A\",\"#19d3f3\",\"#FF6692\",\"#B6E880\",\"#FF97FF\",\"#FECB52\"],\"font\":{\"color\":\"#2a3f5f\"},\"hovermode\":\"closest\",\"hoverlabel\":{\"align\":\"left\"},\"paper_bgcolor\":\"white\",\"plot_bgcolor\":\"#E5ECF6\",\"polar\":{\"bgcolor\":\"#E5ECF6\",\"angularaxis\":{\"gridcolor\":\"white\",\"linecolor\":\"white\",\"ticks\":\"\"},\"radialaxis\":{\"gridcolor\":\"white\",\"linecolor\":\"white\",\"ticks\":\"\"}},\"ternary\":{\"bgcolor\":\"#E5ECF6\",\"aaxis\":{\"gridcolor\":\"white\",\"linecolor\":\"white\",\"ticks\":\"\"},\"baxis\":{\"gridcolor\":\"white\",\"linecolor\":\"white\",\"ticks\":\"\"},\"caxis\":{\"gridcolor\":\"white\",\"linecolor\":\"white\",\"ticks\":\"\"}},\"coloraxis\":{\"colorbar\":{\"outlinewidth\":0,\"ticks\":\"\"}},\"colorscale\":{\"sequential\":[[0.0,\"#0d0887\"],[0.1111111111111111,\"#46039f\"],[0.2222222222222222,\"#7201a8\"],[0.3333333333333333,\"#9c179e\"],[0.4444444444444444,\"#bd3786\"],[0.5555555555555556,\"#d8576b\"],[0.6666666666666666,\"#ed7953\"],[0.7777777777777778,\"#fb9f3a\"],[0.8888888888888888,\"#fdca26\"],[1.0,\"#f0f921\"]],\"sequentialminus\":[[0.0,\"#0d0887\"],[0.1111111111111111,\"#46039f\"],[0.2222222222222222,\"#7201a8\"],[0.3333333333333333,\"#9c179e\"],[0.4444444444444444,\"#bd3786\"],[0.5555555555555556,\"#d8576b\"],[0.6666666666666666,\"#ed7953\"],[0.7777777777777778,\"#fb9f3a\"],[0.8888888888888888,\"#fdca26\"],[1.0,\"#f0f921\"]],\"diverging\":[[0,\"#8e0152\"],[0.1,\"#c51b7d\"],[0.2,\"#de77ae\"],[0.3,\"#f1b6da\"],[0.4,\"#fde0ef\"],[0.5,\"#f7f7f7\"],[0.6,\"#e6f5d0\"],[0.7,\"#b8e186\"],[0.8,\"#7fbc41\"],[0.9,\"#4d9221\"],[1,\"#276419\"]]},\"xaxis\":{\"gridcolor\":\"white\",\"linecolor\":\"white\",\"ticks\":\"\",\"title\":{\"standoff\":15},\"zerolinecolor\":\"white\",\"automargin\":true,\"zerolinewidth\":2},\"yaxis\":{\"gridcolor\":\"white\",\"linecolor\":\"white\",\"ticks\":\"\",\"title\":{\"standoff\":15},\"zerolinecolor\":\"white\",\"automargin\":true,\"zerolinewidth\":2},\"scene\":{\"xaxis\":{\"backgroundcolor\":\"#E5ECF6\",\"gridcolor\":\"white\",\"linecolor\":\"white\",\"showbackground\":true,\"ticks\":\"\",\"zerolinecolor\":\"white\",\"gridwidth\":2},\"yaxis\":{\"backgroundcolor\":\"#E5ECF6\",\"gridcolor\":\"white\",\"linecolor\":\"white\",\"showbackground\":true,\"ticks\":\"\",\"zerolinecolor\":\"white\",\"gridwidth\":2},\"zaxis\":{\"backgroundcolor\":\"#E5ECF6\",\"gridcolor\":\"white\",\"linecolor\":\"white\",\"showbackground\":true,\"ticks\":\"\",\"zerolinecolor\":\"white\",\"gridwidth\":2}},\"shapedefaults\":{\"line\":{\"color\":\"#2a3f5f\"}},\"annotationdefaults\":{\"arrowcolor\":\"#2a3f5f\",\"arrowhead\":0,\"arrowwidth\":1},\"geo\":{\"bgcolor\":\"white\",\"landcolor\":\"#E5ECF6\",\"subunitcolor\":\"white\",\"showland\":true,\"showlakes\":true,\"lakecolor\":\"white\"},\"title\":{\"x\":0.05},\"mapbox\":{\"style\":\"light\"}}},\"scene\":{\"domain\":{\"x\":[0.0,1.0],\"y\":[0.0,1.0]},\"xaxis\":{\"title\":{\"text\":\"x\"}},\"yaxis\":{\"title\":{\"text\":\"y\"}},\"zaxis\":{\"title\":{\"text\":\"z\"}}},\"legend\":{\"tracegroupgap\":0},\"margin\":{\"t\":60}},                        {\"responsive\": true}                    ).then(function(){\n",
              "                            \n",
              "var gd = document.getElementById('5df8ee03-7a43-44b5-9502-3540eacdb4a9');\n",
              "var x = new MutationObserver(function (mutations, observer) {{\n",
              "        var display = window.getComputedStyle(gd).display;\n",
              "        if (!display || display === 'none') {{\n",
              "            console.log([gd, 'removed!']);\n",
              "            Plotly.purge(gd);\n",
              "            observer.disconnect();\n",
              "        }}\n",
              "}});\n",
              "\n",
              "// Listen for the removal of the full notebook cells\n",
              "var notebookContainer = gd.closest('#notebook-container');\n",
              "if (notebookContainer) {{\n",
              "    x.observe(notebookContainer, {childList: true});\n",
              "}}\n",
              "\n",
              "// Listen for the clearing of the current output cell\n",
              "var outputEl = gd.closest('.output');\n",
              "if (outputEl) {{\n",
              "    x.observe(outputEl, {childList: true});\n",
              "}}\n",
              "\n",
              "                        })                };                            </script>        </div>\n",
              "</body>\n",
              "</html>"
            ]
          },
          "metadata": {}
        }
      ]
    }
  ]
}